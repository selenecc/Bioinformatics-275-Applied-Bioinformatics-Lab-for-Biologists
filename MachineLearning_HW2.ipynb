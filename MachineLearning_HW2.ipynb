{
 "cells": [
  {
   "cell_type": "markdown",
   "id": "3056988f",
   "metadata": {},
   "source": [
    "##### <br />\n",
    "<br />\n",
    "\n",
    "# Assignment 3\n",
    "\n",
    "\n",
    "\n"
   ]
  },
  {
   "cell_type": "code",
   "execution_count": 1,
   "id": "31df9aa9",
   "metadata": {},
   "outputs": [],
   "source": [
    "import numpy as np\n",
    "import matplotlib.pyplot as plt\n",
    "from sklearn.model_selection import train_test_split"
   ]
  },
  {
   "cell_type": "markdown",
   "id": "80275a36",
   "metadata": {},
   "source": [
    "##  Hyperparameter tuning for penalized regression"
   ]
  },
  {
   "cell_type": "markdown",
   "id": "9ac32c93",
   "metadata": {},
   "source": [
    "Consider the data and ridge regression algorithm with 20-degree polynomials as in the class. Tune the hyperparameter $\\alpha$ using $K$-fold cross validation based on the $R^2$ measure. The steps would be similar to what we did with classifiers:"
   ]
  },
  {
   "cell_type": "markdown",
   "id": "412d894c",
   "metadata": {},
   "source": [
    "### 1) Load the datafile `Regression_Exercise_dataset.dat`"
   ]
  },
  {
   "cell_type": "code",
   "execution_count": 2,
   "id": "b5fe3fa9",
   "metadata": {},
   "outputs": [
    {
     "name": "stdout",
     "output_type": "stream",
     "text": [
      "(50, 2)\n"
     ]
    }
   ],
   "source": [
    "data = np.loadtxt('Regression_Exercise_dataset.dat')\n",
    "print(data.shape)"
   ]
  },
  {
   "cell_type": "markdown",
   "id": "8c1da70a",
   "metadata": {},
   "source": [
    "### 2) Split out test data"
   ]
  },
  {
   "cell_type": "code",
   "execution_count": 3,
   "id": "9d60ab1f",
   "metadata": {},
   "outputs": [],
   "source": [
    "Y_origin = data[:,0]    # all rows, first column\n",
    "X_origin = data[:,1]   # all rows, second column\n",
    "\n",
    "X, X_test, Y, Y_test = train_test_split(\n",
    "        X_origin,Y_origin,test_size=0.2,\n",
    "        shuffle=False)\n"
   ]
  },
  {
   "cell_type": "markdown",
   "id": "d75b685f",
   "metadata": {},
   "source": [
    "### 3) Choose hyperparameter $\\alpha$ for ridge regression using 4-fold cross validation"
   ]
  },
  {
   "cell_type": "markdown",
   "id": "ab7f1210",
   "metadata": {},
   "source": [
    "`score()` method of `Ridge` and `Lasso` gives you the coefficient of determination ($R^2$)."
   ]
  },
  {
   "cell_type": "code",
   "execution_count": 4,
   "id": "1539fd37",
   "metadata": {},
   "outputs": [],
   "source": [
    "### method 1\n",
    "from sklearn.model_selection import RepeatedKFold\n",
    "from sklearn.linear_model import RidgeCV"
   ]
  },
  {
   "cell_type": "code",
   "execution_count": 5,
   "id": "14b810e0",
   "metadata": {},
   "outputs": [
    {
     "data": {
      "text/plain": [
       "RidgeCV(alphas=array([0.001, 0.011, 0.021, 0.031, 0.041, 0.051, 0.061, 0.071, 0.081,\n",
       "       0.091, 0.101, 0.111, 0.121, 0.131, 0.141, 0.151, 0.161, 0.171,\n",
       "       0.181, 0.191, 0.201, 0.211, 0.221, 0.231, 0.241, 0.251, 0.261,\n",
       "       0.271, 0.281, 0.291, 0.301, 0.311, 0.321, 0.331, 0.341, 0.351,\n",
       "       0.361, 0.371, 0.381, 0.391, 0.401, 0.411, 0.421, 0.431, 0.441,\n",
       "       0.451, 0.461, 0.471, 0.481, 0.491, 0.501, 0.511, 0.521, 0.531,\n",
       "       0.541, 0.551, 0.561, 0.571, 0.581, 0.591, 0.601, 0.611, 0.621,\n",
       "       0.631, 0.641, 0.651, 0.661, 0.671, 0.681, 0.691, 0.701, 0.711,\n",
       "       0.721, 0.731, 0.741, 0.751, 0.761, 0.771, 0.781, 0.791, 0.801,\n",
       "       0.811, 0.821, 0.831, 0.841, 0.851, 0.861, 0.871, 0.881, 0.891,\n",
       "       0.901, 0.911, 0.921, 0.931, 0.941, 0.951, 0.961, 0.971, 0.981,\n",
       "       0.991]),\n",
       "        cv=RepeatedKFold(n_repeats=3, n_splits=10, random_state=42))"
      ]
     },
     "execution_count": 5,
     "metadata": {},
     "output_type": "execute_result"
    }
   ],
   "source": [
    "cva = RepeatedKFold(n_splits=10,n_repeats = 3, random_state=42)\n",
    "model = RidgeCV(alphas=np.arange(0.001,1,.01), cv=cva)\n",
    "X = X.reshape( (X.shape[0], 1 )) \n",
    "model.fit(X,Y)"
   ]
  },
  {
   "cell_type": "code",
   "execution_count": 6,
   "id": "377296bc",
   "metadata": {},
   "outputs": [
    {
     "name": "stdout",
     "output_type": "stream",
     "text": [
      "0.9909999999999999\n"
     ]
    }
   ],
   "source": [
    "print(model.alpha_)"
   ]
  },
  {
   "cell_type": "code",
   "execution_count": 55,
   "id": "2c3b9590",
   "metadata": {},
   "outputs": [
    {
     "name": "stdout",
     "output_type": "stream",
     "text": [
      "1.2388908517962718\n"
     ]
    }
   ],
   "source": [
    "y_pred = model.predict(X_test.reshape(-1,1))\n",
    "mse = np.mean((y_pred-Y_test)**2)\n",
    "print(mse)"
   ]
  },
  {
   "cell_type": "code",
   "execution_count": 9,
   "id": "e67e0590",
   "metadata": {},
   "outputs": [
    {
     "data": {
      "text/plain": [
       "(40, 20)"
      ]
     },
     "execution_count": 9,
     "metadata": {},
     "output_type": "execute_result"
    }
   ],
   "source": [
    "### Method 2\n",
    "def getPoly(myArray,degree):\n",
    "    \n",
    "    result = np.zeros((myArray.shape[0],degree))\n",
    "    for j in range(degree):\n",
    "        result[:,j] = myArray.ravel()**(j+1)\n",
    "    return result\n",
    "X_poly = getPoly(X,degree=20)\n",
    "X_poly.shape"
   ]
  },
  {
   "cell_type": "code",
   "execution_count": 10,
   "id": "3fc33b25",
   "metadata": {},
   "outputs": [
    {
     "name": "stdout",
     "output_type": "stream",
     "text": [
      "Shape of the train dataset:  (26, 1)\n",
      "Shape of the validation dataset:  (14, 1)\n"
     ]
    },
    {
     "data": {
      "text/plain": [
       "(40,)"
      ]
     },
     "execution_count": 10,
     "metadata": {},
     "output_type": "execute_result"
    }
   ],
   "source": [
    "X = X.reshape( (X.shape[0], 1 )) \n",
    "X_train, X_valid, Y_train, Y_valid = train_test_split( \n",
    "        X,Y, test_size=0.33, shuffle=False)\n",
    "print(\"Shape of the train dataset: \", X_train.shape)\n",
    "print(\"Shape of the validation dataset: \", X_valid.shape)\n",
    "from sklearn.linear_model import Ridge\n",
    "from sklearn.model_selection import KFold\n",
    "\n",
    "kf = KFold(n_splits=4)\n",
    "\n",
    "for train_index, valid_index in kf.split( X ):\n",
    "    X_train_kfold = X[train_index]\n",
    "    X_valid_kfold  = X[valid_index]\n",
    "    Y_train_kfold = Y[train_index]\n",
    "    Y_valid_kfold  = Y[valid_index]\n",
    "\n",
    "Y.shape"
   ]
  },
  {
   "cell_type": "code",
   "execution_count": 56,
   "id": "5691d0e1",
   "metadata": {},
   "outputs": [],
   "source": [
    "### Method 2: I got errors from the shape of arrays\n",
    "# from sklearn.model_selection import cross_val_score\n",
    "# alpha_range = range (1,100)\n",
    "# for alpha in alpha_range:\n",
    "#     model_ridge = Ridge( alpha = alpha )\n",
    "#     model_ridge.fit( X_poly , Y )\n",
    "#     loss=cross_val_score(model_ridge,X , Y, cv=4,scoring=model_ridge.score)\n",
    "\n",
    "# plt.plot(X, Y, 'o')\n",
    "# x_array = np.linspace(0,1,100)\n",
    "# y_array = model_ridge.predict(x_array)\n",
    "\n",
    "# x_array = x_array.reshape( (x_array.shape[0], 1 )) \n",
    "# y_array = y_array.reshape( (y_array.shape[0], 1 )) \n",
    "\n",
    "# plt.plot(x_array, y_array, 'r-')\n",
    "\n",
    "# plt.xlabel('X')\n",
    "# plt.ylabel('Y')\n",
    "# plt.show()"
   ]
  },
  {
   "cell_type": "markdown",
   "id": "bd1b5988",
   "metadata": {},
   "source": [
    "### 4) Choose hyperparameter $\\alpha$ for lasso regression using 4-fold cross validation"
   ]
  },
  {
   "cell_type": "code",
   "execution_count": 13,
   "id": "9b5e5245",
   "metadata": {},
   "outputs": [
    {
     "name": "stdout",
     "output_type": "stream",
     "text": [
      "0.001\n"
     ]
    }
   ],
   "source": [
    "from sklearn.linear_model import LassoCV\n",
    "cva = RepeatedKFold(n_splits=10,n_repeats = 3, random_state=42)\n",
    "model_lasso = LassoCV(alphas=np.arange(0.001,1,.01), cv=cva)\n",
    "X = X.reshape( (X.shape[0], 1 )) \n",
    "model_lasso.fit(X,Y)\n",
    "print(model_lasso.alpha_)"
   ]
  },
  {
   "cell_type": "markdown",
   "id": "67049738",
   "metadata": {},
   "source": [
    "### 5) Compare the final performance of the two with the test set."
   ]
  },
  {
   "cell_type": "code",
   "execution_count": 28,
   "id": "59bbaa82",
   "metadata": {},
   "outputs": [
    {
     "data": {
      "text/plain": [
       "array([-4.14086082e-01,  2.16548836e-01, -1.62580658e+02, -7.72755010e-02])"
      ]
     },
     "execution_count": 28,
     "metadata": {},
     "output_type": "execute_result"
    }
   ],
   "source": [
    "# using test set??\n",
    "from sklearn.model_selection import cross_val_score\n",
    "ridge = Ridge(model.alpha_)\n",
    "cross_val_score(ridge, X_test, Y_test, cv=4)"
   ]
  },
  {
   "cell_type": "code",
   "execution_count": 29,
   "id": "d17515f6",
   "metadata": {},
   "outputs": [
    {
     "data": {
      "text/plain": [
       "0.6278354343645123"
      ]
     },
     "execution_count": 29,
     "metadata": {},
     "output_type": "execute_result"
    }
   ],
   "source": [
    "X_test = X_test.reshape( (X_test.shape[0], 1 )) \n",
    "Y_test = Y_test.reshape( (Y_test.shape[0], 1 )) \n",
    "model.score(X_test, Y_test)"
   ]
  },
  {
   "cell_type": "code",
   "execution_count": 30,
   "id": "5d1634ca",
   "metadata": {},
   "outputs": [
    {
     "name": "stdout",
     "output_type": "stream",
     "text": [
      "1.357317493142129\n"
     ]
    }
   ],
   "source": [
    "y_pred = model_lasso.predict(X_test.reshape(-1,1))\n",
    "mse = np.mean((y_pred-Y_test)**2)\n",
    "print(mse)"
   ]
  },
  {
   "cell_type": "code",
   "execution_count": 31,
   "id": "a32db07f",
   "metadata": {},
   "outputs": [
    {
     "ename": "NameError",
     "evalue": "name 'Lasso' is not defined",
     "output_type": "error",
     "traceback": [
      "\u001b[1;31m---------------------------------------------------------------------------\u001b[0m",
      "\u001b[1;31mNameError\u001b[0m                                 Traceback (most recent call last)",
      "\u001b[1;32m~\\AppData\\Local\\Temp/ipykernel_33204/1592459459.py\u001b[0m in \u001b[0;36m<module>\u001b[1;34m\u001b[0m\n\u001b[1;32m----> 1\u001b[1;33m Lasso(alpha=0.5, copy_X=True, fit_intercept=True, max_iter=None,\n\u001b[0m\u001b[0;32m      2\u001b[0m    normalize=False, random_state=None, solver='auto', tol=0.001)\n\u001b[0;32m      3\u001b[0m \u001b[0mlasso\u001b[0m \u001b[1;33m=\u001b[0m \u001b[0mLasso\u001b[0m\u001b[1;33m(\u001b[0m\u001b[0mmodel_lasso\u001b[0m\u001b[1;33m.\u001b[0m\u001b[0malpha_\u001b[0m\u001b[1;33m)\u001b[0m\u001b[1;33m\u001b[0m\u001b[1;33m\u001b[0m\u001b[0m\n\u001b[0;32m      4\u001b[0m \u001b[0mcross_val_score\u001b[0m\u001b[1;33m(\u001b[0m\u001b[0mlasso\u001b[0m\u001b[1;33m,\u001b[0m \u001b[0mX_test\u001b[0m\u001b[1;33m,\u001b[0m \u001b[0mY_test\u001b[0m\u001b[1;33m,\u001b[0m \u001b[0mcv\u001b[0m\u001b[1;33m=\u001b[0m\u001b[1;36m4\u001b[0m\u001b[1;33m)\u001b[0m\u001b[1;33m\u001b[0m\u001b[1;33m\u001b[0m\u001b[0m\n",
      "\u001b[1;31mNameError\u001b[0m: name 'Lasso' is not defined"
     ]
    }
   ],
   "source": [
    "Lasso(alpha=0.5, copy_X=True, fit_intercept=True, max_iter=None,\n",
    "   normalize=False, random_state=None, solver='auto', tol=0.001)\n",
    "lasso = Lasso(model_lasso.alpha_)\n",
    "cross_val_score(lasso, X_test, Y_test, cv=4)"
   ]
  },
  {
   "cell_type": "markdown",
   "id": "253a6b4f",
   "metadata": {},
   "source": [
    "## Exercise 4: Principal Component Analysis + K-means clustering"
   ]
  },
  {
   "cell_type": "markdown",
   "id": "4df9deb1",
   "metadata": {},
   "source": [
    "Let's try PCA on the iris dataset."
   ]
  },
  {
   "cell_type": "code",
   "execution_count": 33,
   "id": "e2c9cd1a",
   "metadata": {},
   "outputs": [],
   "source": [
    "from sklearn.datasets import load_iris\n",
    "iris_data = load_iris()"
   ]
  },
  {
   "cell_type": "markdown",
   "id": "8858ffa0",
   "metadata": {},
   "source": [
    "We have 150 samples with four features, "
   ]
  },
  {
   "cell_type": "code",
   "execution_count": 34,
   "id": "f6846a20",
   "metadata": {},
   "outputs": [
    {
     "name": "stdout",
     "output_type": "stream",
     "text": [
      "(150, 4)\n"
     ]
    }
   ],
   "source": [
    "print( iris_data.data.shape )"
   ]
  },
  {
   "cell_type": "markdown",
   "id": "ca4f3e48",
   "metadata": {},
   "source": [
    "And we have three types of iris: setosa, versicolor, and virginica."
   ]
  },
  {
   "cell_type": "code",
   "execution_count": 35,
   "id": "313c3268",
   "metadata": {},
   "outputs": [
    {
     "data": {
      "text/plain": [
       "array([0, 0, 0, 0, 0, 0, 0, 0, 0, 0, 0, 0, 0, 0, 0, 0, 0, 0, 0, 0, 0, 0,\n",
       "       0, 0, 0, 0, 0, 0, 0, 0, 0, 0, 0, 0, 0, 0, 0, 0, 0, 0, 0, 0, 0, 0,\n",
       "       0, 0, 0, 0, 0, 0, 1, 1, 1, 1, 1, 1, 1, 1, 1, 1, 1, 1, 1, 1, 1, 1,\n",
       "       1, 1, 1, 1, 1, 1, 1, 1, 1, 1, 1, 1, 1, 1, 1, 1, 1, 1, 1, 1, 1, 1,\n",
       "       1, 1, 1, 1, 1, 1, 1, 1, 1, 1, 1, 1, 2, 2, 2, 2, 2, 2, 2, 2, 2, 2,\n",
       "       2, 2, 2, 2, 2, 2, 2, 2, 2, 2, 2, 2, 2, 2, 2, 2, 2, 2, 2, 2, 2, 2,\n",
       "       2, 2, 2, 2, 2, 2, 2, 2, 2, 2, 2, 2, 2, 2, 2, 2, 2, 2])"
      ]
     },
     "execution_count": 35,
     "metadata": {},
     "output_type": "execute_result"
    }
   ],
   "source": [
    "iris_data.target"
   ]
  },
  {
   "cell_type": "code",
   "execution_count": 36,
   "id": "230481f1",
   "metadata": {},
   "outputs": [
    {
     "data": {
      "text/plain": [
       "array(['setosa', 'versicolor', 'virginica'], dtype='<U10')"
      ]
     },
     "execution_count": 36,
     "metadata": {},
     "output_type": "execute_result"
    }
   ],
   "source": [
    "iris_data.target_names"
   ]
  },
  {
   "cell_type": "markdown",
   "id": "c1c6f327",
   "metadata": {},
   "source": [
    "### 1) Compute the covariance matrix."
   ]
  },
  {
   "cell_type": "code",
   "execution_count": 37,
   "id": "9c77885b",
   "metadata": {},
   "outputs": [],
   "source": [
    "X = iris_data.data\n",
    "y = iris_data.target"
   ]
  },
  {
   "cell_type": "markdown",
   "id": "ef4fcfa8",
   "metadata": {},
   "source": [
    "### 2) Fit PCA."
   ]
  },
  {
   "cell_type": "code",
   "execution_count": 39,
   "id": "c1bc8f81",
   "metadata": {},
   "outputs": [
    {
     "data": {
      "text/plain": [
       "PCA(n_components=4)"
      ]
     },
     "execution_count": 39,
     "metadata": {},
     "output_type": "execute_result"
    }
   ],
   "source": [
    "from sklearn.decomposition import PCA\n",
    "pca = PCA(n_components=4)\n",
    "pca.fit(X)"
   ]
  },
  {
   "cell_type": "markdown",
   "id": "b30238b4",
   "metadata": {},
   "source": [
    "### 3) How much of the variance is explained by each PC?  Visualize it. What are the principal components? "
   ]
  },
  {
   "cell_type": "code",
   "execution_count": 42,
   "id": "a44ac997",
   "metadata": {},
   "outputs": [
    {
     "name": "stdout",
     "output_type": "stream",
     "text": [
      "[0.92461872 0.05306648 0.01710261 0.00521218]\n"
     ]
    },
    {
     "data": {
      "image/png": "[encoded data removed]",
      "text/plain": [
       "<Figure size 432x288 with 1 Axes>"
      ]
     },
     "metadata": {
      "needs_background": "light"
     },
     "output_type": "display_data"
    },
    {
     "name": "stdout",
     "output_type": "stream",
     "text": [
      "Principle components : \n",
      " [[ 0.36138659 -0.08452251  0.85667061  0.3582892 ]\n",
      " [ 0.65658877  0.73016143 -0.17337266 -0.07548102]\n",
      " [-0.58202985  0.59791083  0.07623608  0.54583143]\n",
      " [-0.31548719  0.3197231   0.47983899 -0.75365743]]\n"
     ]
    }
   ],
   "source": [
    "print(pca.explained_variance_ratio_)\n",
    "# Plot the explained variance\n",
    "plt.plot(pca.explained_variance_ratio_)\n",
    "plt.title('Variance explained by each PC')\n",
    "plt.xlabel('PC')\n",
    "plt.ylabel('Variance')\n",
    "plt.show()\n",
    "print(\"Principle components : \\n\",pca.components_)"
   ]
  },
  {
   "cell_type": "markdown",
   "id": "e5ce4c61",
   "metadata": {},
   "source": [
    "### 4) Perform the PCA transformation. What is the covariance matrix on the transformed space?"
   ]
  },
  {
   "cell_type": "code",
   "execution_count": 48,
   "id": "ecee2cee",
   "metadata": {},
   "outputs": [
    {
     "name": "stdout",
     "output_type": "stream",
     "text": [
      "[[4.22824171e+00 7.24425088e-16 2.33571071e-16 4.68874814e-16]\n",
      " [7.24425088e-16 2.42670748e-01 8.06095301e-18 2.96300023e-17]\n",
      " [2.33571071e-16 8.06095301e-18 7.82095000e-02 5.66739471e-18]\n",
      " [4.68874814e-16 2.96300023e-17 5.66739471e-18 2.38350930e-02]]\n"
     ]
    }
   ],
   "source": [
    "print(np.cov(pca.transform(X).T))"
   ]
  },
  {
   "cell_type": "markdown",
   "id": "84189b0d",
   "metadata": {},
   "source": [
    "### 5) Plot the samples on the first two principal components. Use different colors/markers for different kind of iris."
   ]
  },
  {
   "cell_type": "code",
   "execution_count": 51,
   "id": "bd421b0b",
   "metadata": {},
   "outputs": [
    {
     "data": {
      "image/png": "[encoded data removed]",
      "text/plain": [
       "<Figure size 432x288 with 1 Axes>"
      ]
     },
     "metadata": {
      "needs_background": "light"
     },
     "output_type": "display_data"
    }
   ],
   "source": [
    "plt.scatter(X_transformed[:, 0], X_transformed[:, 1], c=y, cmap='plasma')\n",
    "plt.xlabel('PC1')\n",
    "plt.ylabel('PC2')\n",
    "plt.show()"
   ]
  },
  {
   "cell_type": "markdown",
   "id": "1902475c-6bd8-436c-a4db-2c6a24e026eb",
   "metadata": {},
   "source": [
    "### 6) Perform K-means clustering with $K=3$ on the PCA-transformed space, and visualize the result using first two principal components."
   ]
  },
  {
   "cell_type": "code",
   "execution_count": 54,
   "id": "ffcca882",
   "metadata": {},
   "outputs": [
    {
     "data": {
      "image/png": "[encoded data removed]",
      "text/plain": [
       "<Figure size 432x288 with 1 Axes>"
      ]
     },
     "metadata": {
      "needs_background": "light"
     },
     "output_type": "display_data"
    }
   ],
   "source": [
    "from sklearn.cluster import KMeans\n",
    "kmeans = KMeans(n_clusters=3)\n",
    "kmeans.fit(X_transformed)\n",
    "y_pred = kmeans.predict(X_transformed)\n",
    "plt.scatter(X_transformed[:, 0], X_transformed[:, 1], c=y_pred, cmap='OrRd')\n",
    "plt.xlabel('PC1')\n",
    "plt.ylabel('PC2')\n",
    "plt.show()"
   ]
  }
 ],
 "metadata": {
  "kernelspec": {
   "display_name": "Python 3 (ipykernel)",
   "language": "python",
   "name": "python3"
  },
  "language_info": {
   "codemirror_mode": {
    "name": "ipython",
    "version": 3
   },
   "file_extension": ".py",
   "mimetype": "text/x-python",
   "name": "python",
   "nbconvert_exporter": "python",
   "pygments_lexer": "ipython3",
   "version": "3.9.7"
  }
 },
 "nbformat": 4,
 "nbformat_minor": 5
}
