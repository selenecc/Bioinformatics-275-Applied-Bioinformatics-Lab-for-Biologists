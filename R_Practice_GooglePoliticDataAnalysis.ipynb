{
 "cells": [
  {
   "cell_type": "code",
   "execution_count": 2,
   "id": "f640c5c6",
   "metadata": {},
   "outputs": [],
   "source": [
    "setwd(\"C:/Files\")"
   ]
  },
  {
   "cell_type": "code",
   "execution_count": 3,
   "id": "40f90932",
   "metadata": {},
   "outputs": [
    {
     "name": "stdout",
     "output_type": "stream",
     "text": [
      "package 'tidyr' successfully unpacked and MD5 sums checked\n"
     ]
    },
    {
     "name": "stderr",
     "output_type": "stream",
     "text": [
      "Warning message:\n",
      "\"cannot remove prior installation of package 'tidyr'\"\n",
      "Warning message in file.copy(savedcopy, lib, recursive = TRUE):\n",
      "\"複製 C:\\Apps\\R\\R-4.1.3\\library\\00LOCK\\tidyr\\libs\\x64\\tidyr.dll 到 C:\\Apps\\R\\R-4.1.3\\library\\tidyr\\libs\\x64\\tidyr.dll 時出了問題：Permission denied\"\n",
      "Warning message:\n",
      "\"restored 'tidyr'\"\n"
     ]
    },
    {
     "name": "stdout",
     "output_type": "stream",
     "text": [
      "\n",
      "The downloaded binary packages are in\n",
      "\tC:\\Users\\marti\\AppData\\Local\\Temp\\RtmpMNaB4R\\downloaded_packages\n",
      "package 'dplyr' successfully unpacked and MD5 sums checked\n"
     ]
    },
    {
     "name": "stderr",
     "output_type": "stream",
     "text": [
      "Warning message:\n",
      "\"cannot remove prior installation of package 'dplyr'\"\n",
      "Warning message in file.copy(savedcopy, lib, recursive = TRUE):\n",
      "\"複製 C:\\Apps\\R\\R-4.1.3\\library\\00LOCK\\dplyr\\libs\\x64\\dplyr.dll 到 C:\\Apps\\R\\R-4.1.3\\library\\dplyr\\libs\\x64\\dplyr.dll 時出了問題：Permission denied\"\n",
      "Warning message:\n",
      "\"restored 'dplyr'\"\n"
     ]
    },
    {
     "name": "stdout",
     "output_type": "stream",
     "text": [
      "\n",
      "The downloaded binary packages are in\n",
      "\tC:\\Users\\marti\\AppData\\Local\\Temp\\RtmpMNaB4R\\downloaded_packages\n"
     ]
    },
    {
     "name": "stderr",
     "output_type": "stream",
     "text": [
      "\n",
      "載入套件：'dplyr'\n",
      "\n",
      "\n",
      "下列物件被遮斷自 'package:stats':\n",
      "\n",
      "    filter, lag\n",
      "\n",
      "\n",
      "下列物件被遮斷自 'package:base':\n",
      "\n",
      "    intersect, setdiff, setequal, union\n",
      "\n",
      "\n"
     ]
    },
    {
     "name": "stdout",
     "output_type": "stream",
     "text": [
      "package 'tibble' successfully unpacked and MD5 sums checked\n"
     ]
    },
    {
     "name": "stderr",
     "output_type": "stream",
     "text": [
      "Warning message:\n",
      "\"cannot remove prior installation of package 'tibble'\"\n",
      "Warning message in file.copy(savedcopy, lib, recursive = TRUE):\n",
      "\"複製 C:\\Apps\\R\\R-4.1.3\\library\\00LOCK\\tibble\\libs\\x64\\tibble.dll 到 C:\\Apps\\R\\R-4.1.3\\library\\tibble\\libs\\x64\\tibble.dll 時出了問題：Permission denied\"\n",
      "Warning message:\n",
      "\"restored 'tibble'\"\n"
     ]
    },
    {
     "name": "stdout",
     "output_type": "stream",
     "text": [
      "\n",
      "The downloaded binary packages are in\n",
      "\tC:\\Users\\marti\\AppData\\Local\\Temp\\RtmpMNaB4R\\downloaded_packages\n",
      "package 'RColorBrewer' successfully unpacked and MD5 sums checked\n",
      "\n",
      "The downloaded binary packages are in\n",
      "\tC:\\Users\\marti\\AppData\\Local\\Temp\\RtmpMNaB4R\\downloaded_packages\n",
      "package 'ggplot2' successfully unpacked and MD5 sums checked\n",
      "\n",
      "The downloaded binary packages are in\n",
      "\tC:\\Users\\marti\\AppData\\Local\\Temp\\RtmpMNaB4R\\downloaded_packages\n",
      "package 'lubridate' successfully unpacked and MD5 sums checked\n"
     ]
    },
    {
     "name": "stderr",
     "output_type": "stream",
     "text": [
      "Warning message:\n",
      "\"cannot remove prior installation of package 'lubridate'\"\n",
      "Warning message in file.copy(savedcopy, lib, recursive = TRUE):\n",
      "\"複製 C:\\Apps\\R\\R-4.1.3\\library\\00LOCK\\lubridate\\libs\\x64\\lubridate.dll 到 C:\\Apps\\R\\R-4.1.3\\library\\lubridate\\libs\\x64\\lubridate.dll 時出了問題：Permission denied\"\n",
      "Warning message:\n",
      "\"restored 'lubridate'\"\n"
     ]
    },
    {
     "name": "stdout",
     "output_type": "stream",
     "text": [
      "\n",
      "The downloaded binary packages are in\n",
      "\tC:\\Users\\marti\\AppData\\Local\\Temp\\RtmpMNaB4R\\downloaded_packages\n"
     ]
    },
    {
     "name": "stderr",
     "output_type": "stream",
     "text": [
      "\n",
      "載入套件：'lubridate'\n",
      "\n",
      "\n",
      "下列物件被遮斷自 'package:base':\n",
      "\n",
      "    date, intersect, setdiff, union\n",
      "\n",
      "\n"
     ]
    }
   ],
   "source": [
    "install.packages('tidyr')\n",
    "library('tidyr')\n",
    "install.packages('dplyr')\n",
    "library('dplyr')\n",
    "install.packages('tibble')\n",
    "library('tibble')\n",
    "install.packages('RColorBrewer')\n",
    "library('RColorBrewer')\n",
    "install.packages('ggplot2') \n",
    "library('ggplot2')\n",
    "install.packages('lubridate')\n",
    "library('lubridate')"
   ]
  },
  {
   "cell_type": "code",
   "execution_count": 4,
   "id": "39bb1c15",
   "metadata": {
    "scrolled": true
   },
   "outputs": [],
   "source": [
    "GoogleAds <- read.csv(\"google_political_ads.csv\", header = TRUE, sep = \",\")"
   ]
  },
  {
   "cell_type": "code",
   "execution_count": 76,
   "id": "92158c86",
   "metadata": {},
   "outputs": [],
   "source": [
    "GoogleAdsFilter <- select(GoogleAds, Advertiser_ID, Spend_USD)"
   ]
  },
  {
   "cell_type": "code",
   "execution_count": 149,
   "id": "6f987b4e",
   "metadata": {},
   "outputs": [],
   "source": [
    "#View(GoogleAdsFilter)"
   ]
  },
  {
   "cell_type": "code",
   "execution_count": 78,
   "id": "add74ae4",
   "metadata": {},
   "outputs": [
    {
     "data": {
      "text/html": [
       "'character'"
      ],
      "text/latex": [
       "'character'"
      ],
      "text/markdown": [
       "'character'"
      ],
      "text/plain": [
       "[1] \"character\""
      ]
     },
     "metadata": {},
     "output_type": "display_data"
    },
    {
     "data": {
      "text/html": [
       "'integer'"
      ],
      "text/latex": [
       "'integer'"
      ],
      "text/markdown": [
       "'integer'"
      ],
      "text/plain": [
       "[1] \"integer\""
      ]
     },
     "metadata": {},
     "output_type": "display_data"
    },
    {
     "data": {
      "text/html": [
       "'NULL'"
      ],
      "text/latex": [
       "'NULL'"
      ],
      "text/markdown": [
       "'NULL'"
      ],
      "text/plain": [
       "[1] \"NULL\""
      ]
     },
     "metadata": {},
     "output_type": "display_data"
    }
   ],
   "source": [
    "class(GoogleAdsFilter$Advertiser_ID)\n",
    "class(GoogleAdsFilter$Spend_USD)\n",
    "class(GoogleAdsFilter$Regions)"
   ]
  },
  {
   "cell_type": "code",
   "execution_count": 79,
   "id": "f447d9a2",
   "metadata": {
    "scrolled": true
   },
   "outputs": [
    {
     "data": {
      "text/html": [
       "<table class=\"dataframe\">\n",
       "<caption>A data.frame: 4 × 2</caption>\n",
       "<thead>\n",
       "\t<tr><th scope=col>Advertiser_ID</th><th scope=col>Spend_USD</th></tr>\n",
       "\t<tr><th scope=col>&lt;chr&gt;</th><th scope=col>&lt;int&gt;</th></tr>\n",
       "</thead>\n",
       "<tbody>\n",
       "\t<tr><td>AR108481940364984320</td><td>83733500</td></tr>\n",
       "\t<tr><td>AR105500339708362752</td><td>83483000</td></tr>\n",
       "\t<tr><td>AR458000056721604608</td><td>62250100</td></tr>\n",
       "\t<tr><td>AR488306308034854912</td><td>47351500</td></tr>\n",
       "</tbody>\n",
       "</table>\n"
      ],
      "text/latex": [
       "A data.frame: 4 × 2\n",
       "\\begin{tabular}{ll}\n",
       " Advertiser\\_ID & Spend\\_USD\\\\\n",
       " <chr> & <int>\\\\\n",
       "\\hline\n",
       "\t AR108481940364984320 & 83733500\\\\\n",
       "\t AR105500339708362752 & 83483000\\\\\n",
       "\t AR458000056721604608 & 62250100\\\\\n",
       "\t AR488306308034854912 & 47351500\\\\\n",
       "\\end{tabular}\n"
      ],
      "text/markdown": [
       "\n",
       "A data.frame: 4 × 2\n",
       "\n",
       "| Advertiser_ID &lt;chr&gt; | Spend_USD &lt;int&gt; |\n",
       "|---|---|\n",
       "| AR108481940364984320 | 83733500 |\n",
       "| AR105500339708362752 | 83483000 |\n",
       "| AR458000056721604608 | 62250100 |\n",
       "| AR488306308034854912 | 47351500 |\n",
       "\n"
      ],
      "text/plain": [
       "  Advertiser_ID        Spend_USD\n",
       "1 AR108481940364984320 83733500 \n",
       "2 AR105500339708362752 83483000 \n",
       "3 AR458000056721604608 62250100 \n",
       "4 AR488306308034854912 47351500 "
      ]
     },
     "metadata": {},
     "output_type": "display_data"
    }
   ],
   "source": [
    "GoogleAdsFilter0 <- filter(GoogleAdsFilter, Spend_USD > 30000000)\n",
    "View(GoogleAdsFilter0)"
   ]
  },
  {
   "cell_type": "code",
   "execution_count": 100,
   "id": "1d356614",
   "metadata": {},
   "outputs": [
    {
     "data": {
      "text/html": [
       "<table class=\"dataframe\">\n",
       "<caption>A matrix: 2 × 2 of type chr</caption>\n",
       "<tbody>\n",
       "\t<tr><td>AR108481940364984320</td><td>AR105500339708362752</td></tr>\n",
       "\t<tr><td>AR458000056721604608</td><td>AR488306308034854912</td></tr>\n",
       "</tbody>\n",
       "</table>\n"
      ],
      "text/latex": [
       "A matrix: 2 × 2 of type chr\n",
       "\\begin{tabular}{ll}\n",
       "\t AR108481940364984320 & AR105500339708362752\\\\\n",
       "\t AR458000056721604608 & AR488306308034854912\\\\\n",
       "\\end{tabular}\n"
      ],
      "text/markdown": [
       "\n",
       "A matrix: 2 × 2 of type chr\n",
       "\n",
       "| AR108481940364984320 | AR105500339708362752 |\n",
       "| AR458000056721604608 | AR488306308034854912 |\n",
       "\n"
      ],
      "text/plain": [
       "     [,1]                 [,2]                \n",
       "[1,] AR108481940364984320 AR105500339708362752\n",
       "[2,] AR458000056721604608 AR488306308034854912"
      ]
     },
     "metadata": {},
     "output_type": "display_data"
    }
   ],
   "source": [
    "#matrix(GoogleAdsFilter0$Advertiser_ID, nrow = 2, GoogleAdsFilter0$Spend_USD, ncol = 2)"
   ]
  },
  {
   "cell_type": "code",
   "execution_count": 134,
   "id": "b21fdbb4",
   "metadata": {},
   "outputs": [
    {
     "data": {
      "text/html": [
       "<style>\n",
       ".list-inline {list-style: none; margin:0; padding: 0}\n",
       ".list-inline>li {display: inline-block}\n",
       ".list-inline>li:not(:last-child)::after {content: \"\\00b7\"; padding: 0 .5ex}\n",
       "</style>\n",
       "<ol class=list-inline><li>0</li><li>0</li></ol>\n"
      ],
      "text/latex": [
       "\\begin{enumerate*}\n",
       "\\item 0\n",
       "\\item 0\n",
       "\\end{enumerate*}\n"
      ],
      "text/markdown": [
       "1. 0\n",
       "2. 0\n",
       "\n",
       "\n"
      ],
      "text/plain": [
       "[1] 0 0"
      ]
     },
     "metadata": {},
     "output_type": "display_data"
    },
    {
     "data": {
      "text/html": [
       "'character'"
      ],
      "text/latex": [
       "'character'"
      ],
      "text/markdown": [
       "'character'"
      ],
      "text/plain": [
       "[1] \"character\""
      ]
     },
     "metadata": {},
     "output_type": "display_data"
    },
    {
     "data": {
      "text/html": [
       "'integer'"
      ],
      "text/latex": [
       "'integer'"
      ],
      "text/markdown": [
       "'integer'"
      ],
      "text/plain": [
       "[1] \"integer\""
      ]
     },
     "metadata": {},
     "output_type": "display_data"
    },
    {
     "name": "stdout",
     "output_type": "stream",
     "text": [
      "[1] 83733500 83483000 62250100 47351500\n"
     ]
    }
   ],
   "source": [
    "numeric(2)\n",
    "numeric <- as.vector(GoogleAdsFilter0$Spend_USD)\n",
    "class(GoogleAdsFilter0$Advertiser_ID)\n",
    "class(GoogleAdsFilter0$Spend_USD)\n",
    "print(numeric)\n",
    "#numeric(4)\n",
    "#numeric <- as.vector(GoogleAdsFilter0$Advertiser_ID)\n",
    "#print(GoogleAdsFilter0$Advertiser_ID)"
   ]
  },
  {
   "cell_type": "code",
   "execution_count": 135,
   "id": "5138c057",
   "metadata": {},
   "outputs": [],
   "source": [
    "#barplot(numeric, main=\"GooglePoliticAds\",\n",
    "#   xlab=\"Advertiser_ID\",\n",
    " #       ylab=\"Spend_USD\",\n",
    "  #     )"
   ]
  },
  {
   "cell_type": "code",
   "execution_count": 143,
   "id": "640ce389",
   "metadata": {},
   "outputs": [
    {
     "data": {
      "image/png": "[encoded data removed]",
      "text/plain": [
       "plot without title"
      ]
     },
     "metadata": {
      "image/png": {
       "height": 420,
       "width": 420
      }
     },
     "output_type": "display_data"
    }
   ],
   "source": [
    "data <- data.frame(\n",
    "  Advertiser_ID=c(GoogleAdsFilter0$Advertiser_ID) ,  \n",
    "  Spend_USD=c(numeric)\n",
    "  )\n",
    "ggplot(data, aes(x=Advertiser_ID, y=Spend_USD)) + \n",
    "  geom_bar(stat = \"identity\", color=\"blue\", fill=rgb(0.2,0.4,0.6,0.6))"
   ]
  },
  {
   "cell_type": "code",
   "execution_count": 144,
   "id": "fc986e5e",
   "metadata": {},
   "outputs": [
    {
     "data": {
      "text/html": [
       "<style>\n",
       ".list-inline {list-style: none; margin:0; padding: 0}\n",
       ".list-inline>li {display: inline-block}\n",
       ".list-inline>li:not(:last-child)::after {content: \"\\00b7\"; padding: 0 .5ex}\n",
       "</style>\n",
       "<ol class=list-inline><li>0</li><li>0</li></ol>\n"
      ],
      "text/latex": [
       "\\begin{enumerate*}\n",
       "\\item 0\n",
       "\\item 0\n",
       "\\end{enumerate*}\n"
      ],
      "text/markdown": [
       "1. 0\n",
       "2. 0\n",
       "\n",
       "\n"
      ],
      "text/plain": [
       "[1] 0 0"
      ]
     },
     "metadata": {},
     "output_type": "display_data"
    },
    {
     "data": {
      "text/html": [
       "'character'"
      ],
      "text/latex": [
       "'character'"
      ],
      "text/markdown": [
       "'character'"
      ],
      "text/plain": [
       "[1] \"character\""
      ]
     },
     "metadata": {},
     "output_type": "display_data"
    },
    {
     "data": {
      "text/html": [
       "'integer'"
      ],
      "text/latex": [
       "'integer'"
      ],
      "text/markdown": [
       "'integer'"
      ],
      "text/plain": [
       "[1] \"integer\""
      ]
     },
     "metadata": {},
     "output_type": "display_data"
    },
    {
     "name": "stdout",
     "output_type": "stream",
     "text": [
      "     Advertiser_ID          Spend_USD \n",
      "[1,] \"AR108481940364984320\" \"83733500\"\n",
      "[2,] \"AR105500339708362752\" \"83483000\"\n",
      "[3,] \"AR458000056721604608\" \"62250100\"\n",
      "[4,] \"AR488306308034854912\" \"47351500\"\n"
     ]
    }
   ],
   "source": [
    "numeric(2)\n",
    "numeric <- as.matrix(GoogleAdsFilter0)\n",
    "class(GoogleAdsFilter0$Advertiser_ID)\n",
    "class(GoogleAdsFilter0$Spend_USD)\n",
    "print(numeric)"
   ]
  },
  {
   "cell_type": "code",
   "execution_count": null,
   "id": "b38c80aa",
   "metadata": {},
   "outputs": [],
   "source": []
  }
 ],
 "metadata": {
  "kernelspec": {
   "display_name": "R",
   "language": "R",
   "name": "ir"
  },
  "language_info": {
   "codemirror_mode": "r",
   "file_extension": ".r",
   "mimetype": "text/x-r-source",
   "name": "R",
   "pygments_lexer": "r",
   "version": "4.1.3"
  }
 },
 "nbformat": 4,
 "nbformat_minor": 5
}
