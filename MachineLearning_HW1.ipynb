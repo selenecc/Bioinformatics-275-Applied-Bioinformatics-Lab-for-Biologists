{
 "cells": [
  {
   "cell_type": "markdown",
   "id": "eae98827-a552-4548-b9bf-9dedac84724a",
   "metadata": {},
   "source": [
    "<br />\n",
    "<br />\n",
    "<br />\n"
   ]
  },
  {
   "cell_type": "markdown",
   "id": "8dac4073-79fc-4a94-907f-0cf80155b2df",
   "metadata": {},
   "source": [
    "## Wisconsin Breast Cancer dataset\n",
    "\n",
    "Repeat what we did in the class for the Wisconsin Breast Cancer dataset we used on Day 1. "
   ]
  },
  {
   "cell_type": "code",
   "execution_count": 1,
   "id": "d6b8a878-6d5e-4839-893b-6dd93d074bec",
   "metadata": {},
   "outputs": [],
   "source": [
    "from sklearn.datasets import load_breast_cancer\n",
    "bcancer = load_breast_cancer()"
   ]
  },
  {
   "cell_type": "code",
   "execution_count": 2,
   "id": "fb6cffee-45b4-4448-a99a-4f3eb508e5a6",
   "metadata": {},
   "outputs": [
    {
     "data": {
      "text/plain": [
       "(569, 30)"
      ]
     },
     "execution_count": 2,
     "metadata": {},
     "output_type": "execute_result"
    }
   ],
   "source": [
    "bcancer.data.shape"
   ]
  },
  {
   "cell_type": "code",
   "execution_count": 3,
   "id": "725fe264-774e-41cd-8231-e7cb8c1eee5e",
   "metadata": {},
   "outputs": [
    {
     "data": {
      "text/plain": [
       "array([0, 0, 0, 0, 0, 0, 0, 0, 0, 0, 0, 0, 0, 0, 0, 0, 0, 0, 0, 1, 1, 1,\n",
       "       0, 0, 0, 0, 0, 0, 0, 0, 0, 0, 0, 0, 0, 0, 0, 1, 0, 0, 0, 0, 0, 0,\n",
       "       0, 0, 1, 0, 1, 1, 1, 1, 1, 0, 0, 1, 0, 0, 1, 1, 1, 1, 0, 1, 0, 0,\n",
       "       1, 1, 1, 1, 0, 1, 0, 0, 1, 0, 1, 0, 0, 1, 1, 1, 0, 0, 1, 0, 0, 0,\n",
       "       1, 1, 1, 0, 1, 1, 0, 0, 1, 1, 1, 0, 0, 1, 1, 1, 1, 0, 1, 1, 0, 1,\n",
       "       1, 1, 1, 1, 1, 1, 1, 0, 0, 0, 1, 0, 0, 1, 1, 1, 0, 0, 1, 0, 1, 0,\n",
       "       0, 1, 0, 0, 1, 1, 0, 1, 1, 0, 1, 1, 1, 1, 0, 1, 1, 1, 1, 1, 1, 1,\n",
       "       1, 1, 0, 1, 1, 1, 1, 0, 0, 1, 0, 1, 1, 0, 0, 1, 1, 0, 0, 1, 1, 1,\n",
       "       1, 0, 1, 1, 0, 0, 0, 1, 0, 1, 0, 1, 1, 1, 0, 1, 1, 0, 0, 1, 0, 0,\n",
       "       0, 0, 1, 0, 0, 0, 1, 0, 1, 0, 1, 1, 0, 1, 0, 0, 0, 0, 1, 1, 0, 0,\n",
       "       1, 1, 1, 0, 1, 1, 1, 1, 1, 0, 0, 1, 1, 0, 1, 1, 0, 0, 1, 0, 1, 1,\n",
       "       1, 1, 0, 1, 1, 1, 1, 1, 0, 1, 0, 0, 0, 0, 0, 0, 0, 0, 0, 0, 0, 0,\n",
       "       0, 0, 1, 1, 1, 1, 1, 1, 0, 1, 0, 1, 1, 0, 1, 1, 0, 1, 0, 0, 1, 1,\n",
       "       1, 1, 1, 1, 1, 1, 1, 1, 1, 1, 1, 0, 1, 1, 0, 1, 0, 1, 1, 1, 1, 1,\n",
       "       1, 1, 1, 1, 1, 1, 1, 1, 1, 0, 1, 1, 1, 0, 1, 0, 1, 1, 1, 1, 0, 0,\n",
       "       0, 1, 1, 1, 1, 0, 1, 0, 1, 0, 1, 1, 1, 0, 1, 1, 1, 1, 1, 1, 1, 0,\n",
       "       0, 0, 1, 1, 1, 1, 1, 1, 1, 1, 1, 1, 1, 0, 0, 1, 0, 0, 0, 1, 0, 0,\n",
       "       1, 1, 1, 1, 1, 0, 1, 1, 1, 1, 1, 0, 1, 1, 1, 0, 1, 1, 0, 0, 1, 1,\n",
       "       1, 1, 1, 1, 0, 1, 1, 1, 1, 1, 1, 1, 0, 1, 1, 1, 1, 1, 0, 1, 1, 0,\n",
       "       1, 1, 1, 1, 1, 1, 1, 1, 1, 1, 1, 1, 0, 1, 0, 0, 1, 0, 1, 1, 1, 1,\n",
       "       1, 0, 1, 1, 0, 1, 0, 1, 1, 0, 1, 0, 1, 1, 1, 1, 1, 1, 1, 1, 0, 0,\n",
       "       1, 1, 1, 1, 1, 1, 0, 1, 1, 1, 1, 1, 1, 1, 1, 1, 1, 0, 1, 1, 1, 1,\n",
       "       1, 1, 1, 0, 1, 0, 1, 1, 0, 1, 1, 1, 1, 1, 0, 0, 1, 0, 1, 0, 1, 1,\n",
       "       1, 1, 1, 0, 1, 1, 0, 1, 0, 1, 0, 0, 1, 1, 1, 0, 1, 1, 1, 1, 1, 1,\n",
       "       1, 1, 1, 1, 1, 0, 1, 0, 0, 1, 1, 1, 1, 1, 1, 1, 1, 1, 1, 1, 1, 1,\n",
       "       1, 1, 1, 1, 1, 1, 1, 1, 1, 1, 1, 1, 0, 0, 0, 0, 0, 0, 1])"
      ]
     },
     "execution_count": 3,
     "metadata": {},
     "output_type": "execute_result"
    }
   ],
   "source": [
    "bcancer.target"
   ]
  },
  {
   "cell_type": "markdown",
   "id": "e14a8401-36d2-4163-a626-733a98ec5d10",
   "metadata": {},
   "source": [
    "### 0) Split out the test data first."
   ]
  },
  {
   "cell_type": "code",
   "execution_count": 4,
   "id": "8318c637",
   "metadata": {},
   "outputs": [],
   "source": [
    "from sklearn import datasets\n",
    "import pandas as pd\n",
    "from sklearn.model_selection import cross_val_score, KFold\n",
    "from sklearn.ensemble import RandomForestClassifier\n",
    "from sklearn.model_selection import train_test_split"
   ]
  },
  {
   "cell_type": "code",
   "execution_count": 5,
   "id": "b47af97b",
   "metadata": {},
   "outputs": [
    {
     "name": "stdout",
     "output_type": "stream",
     "text": [
      "Shape of the train dataset (455, 30)\n",
      "Shape of the test dataset (114, 30)\n"
     ]
    }
   ],
   "source": [
    "X_train, X_test, Y_train, Y_test  = train_test_split( \n",
    "                bcancer.data, bcancer.target, test_size=0.2,\n",
    "                shuffle=True) \n",
    "print(\"Shape of the train dataset\", X_train.shape)\n",
    "print(\"Shape of the test dataset\", X_test.shape)"
   ]
  },
  {
   "cell_type": "markdown",
   "id": "f4fd9d28-8f0d-4e6e-a13f-b9e9ceff3fd3",
   "metadata": {},
   "source": [
    "### 1) Fit a random forest using this data."
   ]
  },
  {
   "cell_type": "code",
   "execution_count": 6,
   "id": "551eb3fb",
   "metadata": {},
   "outputs": [
    {
     "name": "stdout",
     "output_type": "stream",
     "text": [
      "Out of bag score 0.967032967032967\n"
     ]
    }
   ],
   "source": [
    "clf = RandomForestClassifier( n_estimators = 50, \n",
    "                            max_depth = 5, oob_score = True )\n",
    "clf.fit( X_train, Y_train )\n",
    "print(\"Out of bag score\",clf.oob_score_)"
   ]
  },
  {
   "cell_type": "code",
   "execution_count": 7,
   "id": "7dc1d10e",
   "metadata": {},
   "outputs": [],
   "source": [
    "#print(\"Accuracy score: \",clf.score(features,labels))\n",
    "#print(\"Features importance: \",clf.feature_importances_) "
   ]
  },
  {
   "cell_type": "markdown",
   "id": "e339b02b-0ba3-4604-9d5b-808d84070ed1",
   "metadata": {},
   "source": [
    "### 2) Choose hyperparameter `max_depth` using the validation set method. "
   ]
  },
  {
   "cell_type": "code",
   "execution_count": 8,
   "id": "092f4255",
   "metadata": {},
   "outputs": [],
   "source": [
    "X_train1, X_valid, Y_train1, Y_valid = train_test_split( \n",
    "        X_train, Y_train, test_size=0.33,shuffle=False)"
   ]
  },
  {
   "cell_type": "code",
   "execution_count": 9,
   "id": "c5fca1cb",
   "metadata": {},
   "outputs": [
    {
     "name": "stdout",
     "output_type": "stream",
     "text": [
      "Score for the value of max_depth, 10 , is:  0.9801324503311258\n",
      "Score for the value of max_depth, 20 , is:  0.9668874172185431\n",
      "Score for the value of max_depth, 30 , is:  0.9668874172185431\n",
      "Score for the value of max_depth, 40 , is:  0.9867549668874173\n",
      "Score for the value of max_depth, 50 , is:  0.9668874172185431\n"
     ]
    }
   ],
   "source": [
    "max_depths = [10,20,30,40,50]\n",
    "for depth in max_depths:\n",
    "    clf = RandomForestClassifier(n_estimators=50, max_depth=depth,oob_score=False)\n",
    "    clf.fit(X_train1, Y_train1)\n",
    "    print('Score for the value of max_depth,',depth,', is: ',clf.score(X_valid, Y_valid))"
   ]
  },
  {
   "cell_type": "markdown",
   "id": "945dc946-983f-4b62-8947-5fcf9441669a",
   "metadata": {},
   "source": [
    "### 3) Choose hyperparameter `max_depth` using 4-fold cross validation."
   ]
  },
  {
   "cell_type": "code",
   "execution_count": 10,
   "id": "90918542",
   "metadata": {},
   "outputs": [
    {
     "name": "stdout",
     "output_type": "stream",
     "text": [
      "0.6578947368421053\n",
      "Score for the value of max_depth, 10 , is:  0.6578947368421053\n",
      "0.5701754385964912\n",
      "Score for the value of max_depth, 10 , is:  0.5701754385964912\n",
      "0.5789473684210527\n",
      "Score for the value of max_depth, 10 , is:  0.5789473684210527\n",
      "0.6991150442477876\n",
      "Score for the value of max_depth, 10 , is:  0.6991150442477876\n",
      "0.6578947368421053\n",
      "Score for the value of max_depth, 20 , is:  0.6578947368421053\n",
      "0.5701754385964912\n",
      "Score for the value of max_depth, 20 , is:  0.5701754385964912\n",
      "0.5789473684210527\n",
      "Score for the value of max_depth, 20 , is:  0.5789473684210527\n",
      "0.6991150442477876\n",
      "Score for the value of max_depth, 20 , is:  0.6991150442477876\n",
      "0.6578947368421053\n",
      "Score for the value of max_depth, 30 , is:  0.6578947368421053\n",
      "0.5701754385964912\n",
      "Score for the value of max_depth, 30 , is:  0.5701754385964912\n",
      "0.5789473684210527\n",
      "Score for the value of max_depth, 30 , is:  0.5789473684210527\n",
      "0.6991150442477876\n",
      "Score for the value of max_depth, 30 , is:  0.6991150442477876\n",
      "0.6578947368421053\n",
      "Score for the value of max_depth, 40 , is:  0.6578947368421053\n",
      "0.5701754385964912\n",
      "Score for the value of max_depth, 40 , is:  0.5701754385964912\n",
      "0.5789473684210527\n",
      "Score for the value of max_depth, 40 , is:  0.5789473684210527\n",
      "0.6991150442477876\n",
      "Score for the value of max_depth, 40 , is:  0.6991150442477876\n",
      "0.6578947368421053\n",
      "Score for the value of max_depth, 50 , is:  0.6578947368421053\n",
      "0.5701754385964912\n",
      "Score for the value of max_depth, 50 , is:  0.5701754385964912\n",
      "0.5789473684210527\n",
      "Score for the value of max_depth, 50 , is:  0.5789473684210527\n",
      "0.6991150442477876\n",
      "Score for the value of max_depth, 50 , is:  0.6991150442477876\n"
     ]
    }
   ],
   "source": [
    "from sklearn.svm import SVC\n",
    "kf = KFold(n_splits=4)\n",
    "max_depths = [10,20,30,40,50]\n",
    "\n",
    "for depth in max_depths:\n",
    "    for train_index, valid_index in kf.split( X_train ):\n",
    "        a = X_train[train_index]\n",
    "        b  = X_train[valid_index]\n",
    "        c = Y_train[train_index]\n",
    "        d  = Y_train[valid_index]\n",
    "    \n",
    "        clf = SVC( C = 1., gamma = 0.5 )\n",
    "        clf.fit( a, c )\n",
    "        print( clf.score(b, d) )\n",
    "        print('Score for the value of max_depth,',depth,', is: ',clf.score(b,d))"
   ]
  },
  {
   "cell_type": "markdown",
   "id": "155aac23-ee87-4b1d-a088-83ace11b1279",
   "metadata": {},
   "source": [
    "### 4) Check the final performance with the test set."
   ]
  },
  {
   "cell_type": "code",
   "execution_count": 11,
   "id": "a1d20424",
   "metadata": {},
   "outputs": [],
   "source": [
    "from sklearn.metrics import accuracy_score\n",
    "from sklearn.metrics import precision_score\n",
    "from sklearn.metrics import recall_score\n",
    "from sklearn.metrics import f1_score"
   ]
  },
  {
   "cell_type": "code",
   "execution_count": 12,
   "id": "7e9c7476",
   "metadata": {},
   "outputs": [
    {
     "name": "stdout",
     "output_type": "stream",
     "text": [
      "Accuracy:  0.9473684210526315\n",
      "Precision:  0.9583333333333334\n",
      "Recall:  0.9583333333333334\n",
      "F1-score:  0.9583333333333334\n"
     ]
    }
   ],
   "source": [
    "clf = RandomForestClassifier( n_estimators = 50 )\n",
    "clf.fit( X_train, Y_train )\n",
    "\n",
    "print(\"Accuracy: \", accuracy_score(Y_test, clf.predict(X_test)))\n",
    "print(\"Precision: \", precision_score(Y_test, clf.predict(X_test)))\n",
    "print(\"Recall: \", recall_score(Y_test, clf.predict(X_test)))\n",
    "print(\"F1-score: \", f1_score(Y_test, clf.predict(X_test)))"
   ]
  },
  {
   "cell_type": "code",
   "execution_count": 13,
   "id": "9e8c7e01",
   "metadata": {},
   "outputs": [
    {
     "name": "stdout",
     "output_type": "stream",
     "text": [
      "Accuracy:  0.631578947368421\n",
      "Precision:  0.631578947368421\n",
      "Recall:  1.0\n",
      "F1-score:  0.7741935483870968\n"
     ]
    }
   ],
   "source": [
    "clf = SVC( C = 1., gamma = 0.5)\n",
    "clf.fit( X_train, Y_train)        \n",
    "        \n",
    "print(\"Accuracy: \", accuracy_score(Y_test, clf.predict(X_test)))\n",
    "print(\"Precision: \", precision_score(Y_test, clf.predict(X_test)))\n",
    "print(\"Recall: \", recall_score(Y_test, clf.predict(X_test)))\n",
    "print(\"F1-score: \", f1_score(Y_test, clf.predict(X_test)))"
   ]
  },
  {
   "cell_type": "markdown",
   "id": "a138a7c9-8667-4bcd-9e7d-67f702f29de5",
   "metadata": {},
   "source": [
    "## Exercise 2: Banana dataset"
   ]
  },
  {
   "cell_type": "markdown",
   "id": "c914dfa2-0121-4a99-a7b9-643ae9d1e4db",
   "metadata": {},
   "source": [
    "The banana dataset is included in this directory in `banana_dataset.csv`. The first column contains labels, and the remaining columns are two features. This is a comma-separated file, so you will need to use the keyword parameter `delimiter=','` in `np.loadtxt()`.  "
   ]
  },
  {
   "cell_type": "markdown",
   "id": "f5021d00-f009-46cb-b973-d1894b3f488b",
   "metadata": {},
   "source": [
    "### 0) Read in the data, and split out the test data."
   ]
  },
  {
   "cell_type": "code",
   "execution_count": 14,
   "id": "9daf9487-8467-46d6-b381-de38db681c6e",
   "metadata": {},
   "outputs": [
    {
     "name": "stdout",
     "output_type": "stream",
     "text": [
      "Shape of the bdataset:  (300, 3)\n"
     ]
    }
   ],
   "source": [
    "import numpy as np\n",
    "bdataset = np.loadtxt(\"banana_dataset.csv\", delimiter=',')\n",
    "print(\"Shape of the bdataset: \", bdataset.shape )"
   ]
  },
  {
   "cell_type": "code",
   "execution_count": 15,
   "id": "697f9728-c072-43a9-8fb2-97af19693f8c",
   "metadata": {},
   "outputs": [],
   "source": [
    "bfeat = bdataset[:,1:]\n",
    "blabl = bdataset[:,0]"
   ]
  },
  {
   "cell_type": "code",
   "execution_count": 16,
   "id": "ce541ddb",
   "metadata": {},
   "outputs": [],
   "source": [
    "features, features_test, labels, labels_test = train_test_split( \n",
    "                bfeat, blabl, test_size=0.2,\n",
    "                shuffle=True) "
   ]
  },
  {
   "cell_type": "markdown",
   "id": "d661c900-2c51-4a21-b502-59ef6af0f9f9",
   "metadata": {},
   "source": [
    "### 1) Fit a support vector classifier with this data. "
   ]
  },
  {
   "cell_type": "code",
   "execution_count": 17,
   "id": "002f0d71",
   "metadata": {},
   "outputs": [],
   "source": [
    "from sklearn.svm import SVC"
   ]
  },
  {
   "cell_type": "code",
   "execution_count": 18,
   "id": "1f155d81",
   "metadata": {},
   "outputs": [
    {
     "name": "stdout",
     "output_type": "stream",
     "text": [
      "0.9375\n"
     ]
    }
   ],
   "source": [
    "clf = SVC()\n",
    "clf.fit( features, labels )\n",
    "print( clf.score( features, labels ) )"
   ]
  },
  {
   "cell_type": "code",
   "execution_count": 19,
   "id": "dbda17ea",
   "metadata": {},
   "outputs": [
    {
     "name": "stdout",
     "output_type": "stream",
     "text": [
      "1.0\n"
     ]
    }
   ],
   "source": [
    "clf = SVC(gamma=10000.)\n",
    "clf.fit( features, labels )\n",
    "print( clf.score( features, labels ) )"
   ]
  },
  {
   "cell_type": "code",
   "execution_count": 20,
   "id": "10492a48",
   "metadata": {},
   "outputs": [],
   "source": [
    "import matplotlib.pyplot as plt\n",
    "def plotContours(clf, delta = 0.01):\n",
    "    \n",
    "    x     = np.arange(-2.0, 5.001, delta)\n",
    "    y     = np.arange(-2.0, 5.001, delta)\n",
    "\n",
    "    X, Y = np.meshgrid(x, y)\n",
    "    Z    = clf.predict( np.c_[X.ravel(), Y.ravel()] )\n",
    "    Z    = Z.reshape( X.shape )\n",
    "\n",
    "    plt.contourf( X, Y, Z, cmap=plt.get_cmap('jet'))\n",
    "\n",
    "    plt.xlabel('X1')\n",
    "    plt.ylabel('X2')\n",
    "\n",
    "    plt.show()"
   ]
  },
  {
   "cell_type": "code",
   "execution_count": 21,
   "id": "fd1847df",
   "metadata": {},
   "outputs": [
    {
     "data": {
      "image/png": "[encoded data removed]",
      "text/plain": [
       "<Figure size 432x288 with 1 Axes>"
      ]
     },
     "metadata": {
      "needs_background": "light"
     },
     "output_type": "display_data"
    }
   ],
   "source": [
    "clf = SVC()\n",
    "clf.fit( features, labels )\n",
    "plotContours(clf)"
   ]
  },
  {
   "cell_type": "markdown",
   "id": "b873bfdb-cd6f-4b63-8dff-8f81c1dcf82a",
   "metadata": {},
   "source": [
    "### 2) Choose hyperparameters $\\gamma$ and $C$ using validation set. "
   ]
  },
  {
   "cell_type": "code",
   "execution_count": 22,
   "id": "c2bcf1b5",
   "metadata": {},
   "outputs": [],
   "source": [
    "features_train, features_valid, labels_train, labels_valid = train_test_split( \n",
    "        features, labels, test_size=0.33, shuffle=False)"
   ]
  },
  {
   "cell_type": "code",
   "execution_count": 23,
   "id": "f574733a",
   "metadata": {},
   "outputs": [
    {
     "name": "stdout",
     "output_type": "stream",
     "text": [
      "Shape of the train dataset:  (160, 2)\n",
      "Shape of the validation dataset:  (80, 2)\n"
     ]
    }
   ],
   "source": [
    "print(\"Shape of the train dataset: \", features_train.shape)\n",
    "print(\"Shape of the validation dataset: \", features_valid.shape)"
   ]
  },
  {
   "cell_type": "code",
   "execution_count": 24,
   "id": "31b120f0",
   "metadata": {},
   "outputs": [
    {
     "data": {
      "image/png": "[encoded data removed]",
      "text/plain": [
       "<Figure size 432x288 with 1 Axes>"
      ]
     },
     "metadata": {
      "needs_background": "light"
     },
     "output_type": "display_data"
    }
   ],
   "source": [
    "Cvalue = range (1,10000)\n",
    "\n",
    "accuracies = []\n",
    "for C in Cvalue:\n",
    "    clf = SVC( C = C )\n",
    "    clf.fit( features_train, labels_train )\n",
    "    accuracies.append( clf.score(features_valid, labels_valid) )\n",
    "\n",
    "plt.plot(Cvalue, accuracies)\n",
    "\n",
    "plt.ylabel(r'Accuracy') # r'': raw string. backslashes mean backslashes, not escaping.\n",
    "plt.xlabel(r'C')\n",
    "plt.xscale('log')\n",
    "\n",
    "plt.show()\n",
    "# we got the highest accuracy at C=100"
   ]
  },
  {
   "cell_type": "code",
   "execution_count": 25,
   "id": "3d0cb98b",
   "metadata": {},
   "outputs": [
    {
     "data": {
      "image/png": "[encoded data removed]",
      "text/plain": [
       "<Figure size 432x288 with 1 Axes>"
      ]
     },
     "metadata": {
      "needs_background": "light"
     },
     "output_type": "display_data"
    }
   ],
   "source": [
    "setGammas = np.array( [0.003,0.01,0.03,0.1,0.3,1.0,3.,10.,30.,100.,300] )\n",
    "\n",
    "accuracies = []\n",
    "for gamma in setGammas:\n",
    "    clf = SVC( C = 10., gamma = gamma )\n",
    "    clf.fit( features_train, labels_train )\n",
    "    accuracies.append( clf.score(features_valid, labels_valid) )\n",
    "\n",
    "plt.plot(setGammas, accuracies)\n",
    "\n",
    "plt.ylabel(r'Accuracy') # r'': raw string. backslashes mean backslashes, not escaping.\n",
    "plt.xlabel(r'$\\gamma$')\n",
    "plt.xscale('log')\n",
    "\n",
    "plt.show()\n",
    "# we got the highest accuracy at gamma=1"
   ]
  },
  {
   "cell_type": "code",
   "execution_count": 26,
   "id": "acc2c072",
   "metadata": {},
   "outputs": [
    {
     "name": "stdout",
     "output_type": "stream",
     "text": [
      "Average accuracy (gamma = 0.5):  0.973875\n"
     ]
    }
   ],
   "source": [
    "numRepetitions = 100\n",
    "accuracies = np.zeros( numRepetitions )\n",
    "\n",
    "for j in range(numRepetitions):\n",
    "    features_train, features_valid, labels_train, labels_valid = train_test_split( features, labels, \n",
    "                                                            test_size=0.33)\n",
    "    clf = SVC( C = 10., gamma = 1. )\n",
    "    clf.fit( features_train, labels_train )\n",
    "    accuracies[j] = clf.score(features_valid, labels_valid)\n",
    "\n",
    "print(r\"Average accuracy (gamma = 0.5): \", accuracies.mean() )"
   ]
  },
  {
   "cell_type": "markdown",
   "id": "ad6ef97d-9f0c-4d5b-ac79-1495088dffd1",
   "metadata": {},
   "source": [
    "### 3) Choose hyperparameters $\\gamma$ and $C$ using 4-fold cross validation."
   ]
  },
  {
   "cell_type": "code",
   "execution_count": 27,
   "id": "2eee4e3c",
   "metadata": {},
   "outputs": [],
   "source": [
    "from sklearn.model_selection import KFold\n",
    "kf = KFold(n_splits=4)"
   ]
  },
  {
   "cell_type": "code",
   "execution_count": 28,
   "id": "9395dfe6",
   "metadata": {},
   "outputs": [
    {
     "data": {
      "text/plain": [
       "SVC(C=10.0, gamma=1.0)"
      ]
     },
     "execution_count": 28,
     "metadata": {},
     "output_type": "execute_result"
    }
   ],
   "source": [
    "for train_index, valid_index in kf.split( features ):\n",
    "    features_train_kfold = features[train_index]\n",
    "    features_valid_kfold  = features[valid_index]\n",
    "    labels_train_kfold = labels[train_index]\n",
    "    labels_valid_kfold  = labels[valid_index]\n",
    "    \n",
    "clf.fit( features_train_kfold, labels_train_kfold )"
   ]
  },
  {
   "cell_type": "code",
   "execution_count": 29,
   "id": "d3519d9f",
   "metadata": {},
   "outputs": [
    {
     "data": {
      "image/png": "[encoded data removed]",
      "text/plain": [
       "<Figure size 432x288 with 1 Axes>"
      ]
     },
     "metadata": {
      "needs_background": "light"
     },
     "output_type": "display_data"
    }
   ],
   "source": [
    "Cvalue = range (1, 1000)\n",
    "\n",
    "accuracies = []\n",
    "for C in Cvalue:\n",
    "    clf = SVC( C = C )\n",
    "    clf.fit( features_train, labels_train )\n",
    "    accuracies.append( clf.score(features_valid, labels_valid) )\n",
    "\n",
    "plt.plot(Cvalue, accuracies)\n",
    "\n",
    "plt.ylabel(r'Accuracy') # r'': raw string. backslashes mean backslashes, not escaping.\n",
    "plt.xlabel(r'C')\n",
    "plt.xscale('log')\n",
    "\n",
    "plt.show()\n",
    "# we got the highest accuracy at C=50"
   ]
  },
  {
   "cell_type": "code",
   "execution_count": 30,
   "id": "eac02435",
   "metadata": {},
   "outputs": [
    {
     "data": {
      "image/png": "[encoded data removed]",
      "text/plain": [
       "<Figure size 432x288 with 1 Axes>"
      ]
     },
     "metadata": {
      "needs_background": "light"
     },
     "output_type": "display_data"
    }
   ],
   "source": [
    "setGammas = np.array( [0.003,0.01,0.03,0.1,0.3,1.0,3.,10.,30.,100.,300] )\n",
    "\n",
    "accuracies = []\n",
    "for gamma in setGammas:\n",
    "    clf = SVC( C = 50., gamma = gamma )\n",
    "    clf.fit( features_train_kfold, labels_train_kfold )\n",
    "    accuracies.append( clf.score(features_valid_kfold, labels_valid_kfold) )\n",
    "\n",
    "plt.plot(setGammas, accuracies)\n",
    "\n",
    "plt.ylabel(r'Accuracy') # r'': raw string. backslashes mean backslashes, not escaping.\n",
    "plt.xlabel(r'$\\gamma$')\n",
    "plt.xscale('log')\n",
    "\n",
    "plt.show()\n",
    "# we got the highest accuracy at gamma=0.5"
   ]
  },
  {
   "cell_type": "code",
   "execution_count": 31,
   "id": "f9e004c3",
   "metadata": {},
   "outputs": [
    {
     "name": "stdout",
     "output_type": "stream",
     "text": [
      "Average accuracy (gamma = 5):  0.9702500000000001\n"
     ]
    }
   ],
   "source": [
    "numRepetitions = 100\n",
    "accuracies = np.zeros( numRepetitions )\n",
    "\n",
    "for j in range(numRepetitions):\n",
    "    features_train_kfold, features_valid_kfold, labels_train_kfold, labels_valid_kfold = train_test_split( features, labels, \n",
    "                                                            test_size=0.33)\n",
    "    clf = SVC( C = 50., gamma = 0.5 )\n",
    "    clf.fit( features_train_kfold, labels_train_kfold )\n",
    "    accuracies[j] = clf.score(features_valid_kfold, labels_valid_kfold)\n",
    "\n",
    "print(r\"Average accuracy (gamma = 5): \", accuracies.mean() )"
   ]
  },
  {
   "cell_type": "markdown",
   "id": "b705ff4b-0ae0-4aeb-9cc3-f97db8422c4f",
   "metadata": {},
   "source": [
    "### 4) Check the final performance with the test set."
   ]
  },
  {
   "cell_type": "code",
   "execution_count": 32,
   "id": "85a83c53-65dd-4c89-8453-0a5f29ddf133",
   "metadata": {},
   "outputs": [
    {
     "name": "stdout",
     "output_type": "stream",
     "text": [
      "Accuracy:  0.9666666666666667\n",
      "Precision:  0.9714285714285714\n",
      "Recall:  0.9714285714285714\n",
      "F1-score:  0.9714285714285714\n"
     ]
    }
   ],
   "source": [
    "from sklearn.metrics import accuracy_score\n",
    "from sklearn.metrics import precision_score\n",
    "from sklearn.metrics import recall_score\n",
    "from sklearn.metrics import f1_score\n",
    "\n",
    "clf = SVC( C = 1., gamma = 0.5)\n",
    "clf.fit( features, labels )        \n",
    "        \n",
    "print(\"Accuracy: \", accuracy_score(labels_test, clf.predict(features_test)))\n",
    "print(\"Precision: \", precision_score(labels_test, clf.predict(features_test)))\n",
    "print(\"Recall: \", recall_score(labels_test, clf.predict(features_test)))\n",
    "print(\"F1-score: \", f1_score(labels_test, clf.predict(features_test)))"
   ]
  },
  {
   "cell_type": "code",
   "execution_count": 33,
   "id": "65466860",
   "metadata": {},
   "outputs": [
    {
     "name": "stdout",
     "output_type": "stream",
     "text": [
      "Accuracy:  0.9666666666666667\n",
      "Precision:  0.9714285714285714\n",
      "Recall:  0.9714285714285714\n",
      "F1-score:  0.9714285714285714\n"
     ]
    }
   ],
   "source": [
    "clf = SVC( C = 1., gamma = 5.)\n",
    "clf.fit( features_train_kfold, labels_train_kfold )        \n",
    "        \n",
    "print(\"Accuracy: \", accuracy_score(labels_test, clf.predict(features_test)))\n",
    "print(\"Precision: \", precision_score(labels_test, clf.predict(features_test)))\n",
    "print(\"Recall: \", recall_score(labels_test, clf.predict(features_test)))\n",
    "print(\"F1-score: \", f1_score(labels_test, clf.predict(features_test)))"
   ]
  }
 ],
 "metadata": {
  "kernelspec": {
   "display_name": "Python 3 (ipykernel)",
   "language": "python",
   "name": "python3"
  },
  "language_info": {
   "codemirror_mode": {
    "name": "ipython",
    "version": 3
   },
   "file_extension": ".py",
   "mimetype": "text/x-python",
   "name": "python",
   "nbconvert_exporter": "python",
   "pygments_lexer": "ipython3",
   "version": "3.9.7"
  }
 },
 "nbformat": 4,
 "nbformat_minor": 5
}
