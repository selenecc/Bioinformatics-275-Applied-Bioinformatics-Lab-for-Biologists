{
 "cells": [
  {
   "cell_type": "code",
   "execution_count": 1,
   "id": "73179d5f",
   "metadata": {},
   "outputs": [],
   "source": [
    "# Move into the 'Data' folder within this directory\n",
    "setwd(\"C:/Files\")"
   ]
  },
  {
   "cell_type": "code",
   "execution_count": null,
   "id": "b1853f9a",
   "metadata": {},
   "outputs": [],
   "source": [
    "# Install the packages in the R session\n",
    "stats::filter\n",
    "install.packages('tidyr')\n",
    "install.packages('dplyr')\n",
    "install.packages('tibble')\n",
    "install.packages('RColorBrewer')\n",
    "install.packages('ggplot2')\n",
    "install.packages('lubridate')"
   ]
  },
  {
   "cell_type": "code",
   "execution_count": 6,
   "id": "1f00e282",
   "metadata": {},
   "outputs": [],
   "source": [
    "# Load the packages in the R session\n",
    "library('tidyr')\n",
    "library('dplyr')\n",
    "library('tibble')\n",
    "library('RColorBrewer')\n",
    "library('ggplot2')\n",
    "library('lubridate')"
   ]
  },
  {
   "cell_type": "code",
   "execution_count": 7,
   "id": "b00001d5",
   "metadata": {},
   "outputs": [],
   "source": [
    "# Importing Data from a local directory\n",
    "GoogleAds <- read.csv(\"google_political_ads.csv\", header = TRUE, sep = \",\")"
   ]
  },
  {
   "cell_type": "code",
   "execution_count": 8,
   "id": "bf185dcc",
   "metadata": {},
   "outputs": [
    {
     "data": {
      "text/html": [
       "<table class=\"dataframe\">\n",
       "<caption>A data.frame: 6503 × 2</caption>\n",
       "<thead>\n",
       "\t<tr><th scope=col>Advertiser_ID</th><th scope=col>Spend_USD</th></tr>\n",
       "\t<tr><th scope=col>&lt;chr&gt;</th><th scope=col>&lt;int&gt;</th></tr>\n",
       "</thead>\n",
       "<tbody>\n",
       "\t<tr><td>AR108481940364984320</td><td>83733500</td></tr>\n",
       "\t<tr><td>AR105500339708362752</td><td>83483000</td></tr>\n",
       "\t<tr><td>AR458000056721604608</td><td>62250100</td></tr>\n",
       "\t<tr><td>AR488306308034854912</td><td>47351500</td></tr>\n",
       "\t<tr><td>AR249615527784218624</td><td>16328300</td></tr>\n",
       "\t<tr><td>AR128018337845215232</td><td>15857200</td></tr>\n",
       "\t<tr><td>AR25310001757159424 </td><td>15933100</td></tr>\n",
       "\t<tr><td>AR194446432348930048</td><td>15443100</td></tr>\n",
       "\t<tr><td>AR230475229367894016</td><td>14759900</td></tr>\n",
       "\t<tr><td>AR276637125548441600</td><td>10746100</td></tr>\n",
       "\t<tr><td>AR432709227698454528</td><td> 8872700</td></tr>\n",
       "\t<tr><td>AR383080296477622272</td><td> 8785000</td></tr>\n",
       "\t<tr><td>AR462410610177474560</td><td> 8292400</td></tr>\n",
       "\t<tr><td>AR568293442493349888</td><td> 7852700</td></tr>\n",
       "\t<tr><td>AR157291735423123456</td><td> 8047900</td></tr>\n",
       "\t<tr><td>AR101121809528651776</td><td> 7214700</td></tr>\n",
       "\t<tr><td>AR470291909525372928</td><td> 7475700</td></tr>\n",
       "\t<tr><td>AR505923507968802816</td><td> 7179300</td></tr>\n",
       "\t<tr><td>AR488740683847303168</td><td> 7170400</td></tr>\n",
       "\t<tr><td>AR534531769731383296</td><td> 6942100</td></tr>\n",
       "\t<tr><td>AR264932274514952192</td><td> 6555200</td></tr>\n",
       "\t<tr><td>AR437314669590347776</td><td> 6032000</td></tr>\n",
       "\t<tr><td>AR329053043867779072</td><td> 5930700</td></tr>\n",
       "\t<tr><td>AR312492199730216960</td><td> 5772300</td></tr>\n",
       "\t<tr><td>AR120847323008860160</td><td> 5361800</td></tr>\n",
       "\t<tr><td>AR227673879898750976</td><td> 5578700</td></tr>\n",
       "\t<tr><td>AR485896728302583808</td><td> 4939900</td></tr>\n",
       "\t<tr><td>AR424466463902924800</td><td> 5015000</td></tr>\n",
       "\t<tr><td>AR22316821868707840 </td><td> 5131900</td></tr>\n",
       "\t<tr><td>AR463536510084317184</td><td> 4939000</td></tr>\n",
       "\t<tr><td>...</td><td>...</td></tr>\n",
       "\t<tr><td>AR564175977605758976</td><td>  0</td></tr>\n",
       "\t<tr><td>AR567549519797944320</td><td>  0</td></tr>\n",
       "\t<tr><td>AR569117595177844736</td><td>  0</td></tr>\n",
       "\t<tr><td>AR571716909385383936</td><td>  0</td></tr>\n",
       "\t<tr><td>AR573375316517453824</td><td>  0</td></tr>\n",
       "\t<tr><td>AR574311413229551616</td><td>  0</td></tr>\n",
       "\t<tr><td>AR57449104594173952 </td><td>  0</td></tr>\n",
       "\t<tr><td>AR575254931645136896</td><td>  0</td></tr>\n",
       "\t<tr><td>AR57534694702448640 </td><td>  0</td></tr>\n",
       "\t<tr><td>AR57782359696605184 </td><td>  0</td></tr>\n",
       "\t<tr><td>AR57885610710401024 </td><td>  0</td></tr>\n",
       "\t<tr><td>AR58152929474904064 </td><td>  0</td></tr>\n",
       "\t<tr><td>AR60293094498631680 </td><td>  0</td></tr>\n",
       "\t<tr><td>AR61014855162789888 </td><td>  0</td></tr>\n",
       "\t<tr><td>AR62741328936566784 </td><td>  0</td></tr>\n",
       "\t<tr><td>AR64065312735100928 </td><td>  0</td></tr>\n",
       "\t<tr><td>AR65485194563420160 </td><td>100</td></tr>\n",
       "\t<tr><td>AR66824949481865216 </td><td>  0</td></tr>\n",
       "\t<tr><td>AR68326401329070080 </td><td>  0</td></tr>\n",
       "\t<tr><td>AR72549694210834432 </td><td>  0</td></tr>\n",
       "\t<tr><td>AR75246040319524864 </td><td>  0</td></tr>\n",
       "\t<tr><td>AR82656095855706112 </td><td>  0</td></tr>\n",
       "\t<tr><td>AR86794417104486400 </td><td>  0</td></tr>\n",
       "\t<tr><td>AR88565111861542912 </td><td>  0</td></tr>\n",
       "\t<tr><td>AR88954785654374400 </td><td>  0</td></tr>\n",
       "\t<tr><td>AR90305570048835584 </td><td>  0</td></tr>\n",
       "\t<tr><td>AR92302386244091904 </td><td>  0</td></tr>\n",
       "\t<tr><td>AR92424844351635456 </td><td>  0</td></tr>\n",
       "\t<tr><td>AR94037793549844480 </td><td>  0</td></tr>\n",
       "\t<tr><td>AR94624314283786240 </td><td>  0</td></tr>\n",
       "</tbody>\n",
       "</table>\n"
      ],
      "text/latex": [
       "A data.frame: 6503 × 2\n",
       "\\begin{tabular}{ll}\n",
       " Advertiser\\_ID & Spend\\_USD\\\\\n",
       " <chr> & <int>\\\\\n",
       "\\hline\n",
       "\t AR108481940364984320 & 83733500\\\\\n",
       "\t AR105500339708362752 & 83483000\\\\\n",
       "\t AR458000056721604608 & 62250100\\\\\n",
       "\t AR488306308034854912 & 47351500\\\\\n",
       "\t AR249615527784218624 & 16328300\\\\\n",
       "\t AR128018337845215232 & 15857200\\\\\n",
       "\t AR25310001757159424  & 15933100\\\\\n",
       "\t AR194446432348930048 & 15443100\\\\\n",
       "\t AR230475229367894016 & 14759900\\\\\n",
       "\t AR276637125548441600 & 10746100\\\\\n",
       "\t AR432709227698454528 &  8872700\\\\\n",
       "\t AR383080296477622272 &  8785000\\\\\n",
       "\t AR462410610177474560 &  8292400\\\\\n",
       "\t AR568293442493349888 &  7852700\\\\\n",
       "\t AR157291735423123456 &  8047900\\\\\n",
       "\t AR101121809528651776 &  7214700\\\\\n",
       "\t AR470291909525372928 &  7475700\\\\\n",
       "\t AR505923507968802816 &  7179300\\\\\n",
       "\t AR488740683847303168 &  7170400\\\\\n",
       "\t AR534531769731383296 &  6942100\\\\\n",
       "\t AR264932274514952192 &  6555200\\\\\n",
       "\t AR437314669590347776 &  6032000\\\\\n",
       "\t AR329053043867779072 &  5930700\\\\\n",
       "\t AR312492199730216960 &  5772300\\\\\n",
       "\t AR120847323008860160 &  5361800\\\\\n",
       "\t AR227673879898750976 &  5578700\\\\\n",
       "\t AR485896728302583808 &  4939900\\\\\n",
       "\t AR424466463902924800 &  5015000\\\\\n",
       "\t AR22316821868707840  &  5131900\\\\\n",
       "\t AR463536510084317184 &  4939000\\\\\n",
       "\t ... & ...\\\\\n",
       "\t AR564175977605758976 &   0\\\\\n",
       "\t AR567549519797944320 &   0\\\\\n",
       "\t AR569117595177844736 &   0\\\\\n",
       "\t AR571716909385383936 &   0\\\\\n",
       "\t AR573375316517453824 &   0\\\\\n",
       "\t AR574311413229551616 &   0\\\\\n",
       "\t AR57449104594173952  &   0\\\\\n",
       "\t AR575254931645136896 &   0\\\\\n",
       "\t AR57534694702448640  &   0\\\\\n",
       "\t AR57782359696605184  &   0\\\\\n",
       "\t AR57885610710401024  &   0\\\\\n",
       "\t AR58152929474904064  &   0\\\\\n",
       "\t AR60293094498631680  &   0\\\\\n",
       "\t AR61014855162789888  &   0\\\\\n",
       "\t AR62741328936566784  &   0\\\\\n",
       "\t AR64065312735100928  &   0\\\\\n",
       "\t AR65485194563420160  & 100\\\\\n",
       "\t AR66824949481865216  &   0\\\\\n",
       "\t AR68326401329070080  &   0\\\\\n",
       "\t AR72549694210834432  &   0\\\\\n",
       "\t AR75246040319524864  &   0\\\\\n",
       "\t AR82656095855706112  &   0\\\\\n",
       "\t AR86794417104486400  &   0\\\\\n",
       "\t AR88565111861542912  &   0\\\\\n",
       "\t AR88954785654374400  &   0\\\\\n",
       "\t AR90305570048835584  &   0\\\\\n",
       "\t AR92302386244091904  &   0\\\\\n",
       "\t AR92424844351635456  &   0\\\\\n",
       "\t AR94037793549844480  &   0\\\\\n",
       "\t AR94624314283786240  &   0\\\\\n",
       "\\end{tabular}\n"
      ],
      "text/markdown": [
       "\n",
       "A data.frame: 6503 × 2\n",
       "\n",
       "| Advertiser_ID &lt;chr&gt; | Spend_USD &lt;int&gt; |\n",
       "|---|---|\n",
       "| AR108481940364984320 | 83733500 |\n",
       "| AR105500339708362752 | 83483000 |\n",
       "| AR458000056721604608 | 62250100 |\n",
       "| AR488306308034854912 | 47351500 |\n",
       "| AR249615527784218624 | 16328300 |\n",
       "| AR128018337845215232 | 15857200 |\n",
       "| AR25310001757159424  | 15933100 |\n",
       "| AR194446432348930048 | 15443100 |\n",
       "| AR230475229367894016 | 14759900 |\n",
       "| AR276637125548441600 | 10746100 |\n",
       "| AR432709227698454528 |  8872700 |\n",
       "| AR383080296477622272 |  8785000 |\n",
       "| AR462410610177474560 |  8292400 |\n",
       "| AR568293442493349888 |  7852700 |\n",
       "| AR157291735423123456 |  8047900 |\n",
       "| AR101121809528651776 |  7214700 |\n",
       "| AR470291909525372928 |  7475700 |\n",
       "| AR505923507968802816 |  7179300 |\n",
       "| AR488740683847303168 |  7170400 |\n",
       "| AR534531769731383296 |  6942100 |\n",
       "| AR264932274514952192 |  6555200 |\n",
       "| AR437314669590347776 |  6032000 |\n",
       "| AR329053043867779072 |  5930700 |\n",
       "| AR312492199730216960 |  5772300 |\n",
       "| AR120847323008860160 |  5361800 |\n",
       "| AR227673879898750976 |  5578700 |\n",
       "| AR485896728302583808 |  4939900 |\n",
       "| AR424466463902924800 |  5015000 |\n",
       "| AR22316821868707840  |  5131900 |\n",
       "| AR463536510084317184 |  4939000 |\n",
       "| ... | ... |\n",
       "| AR564175977605758976 |   0 |\n",
       "| AR567549519797944320 |   0 |\n",
       "| AR569117595177844736 |   0 |\n",
       "| AR571716909385383936 |   0 |\n",
       "| AR573375316517453824 |   0 |\n",
       "| AR574311413229551616 |   0 |\n",
       "| AR57449104594173952  |   0 |\n",
       "| AR575254931645136896 |   0 |\n",
       "| AR57534694702448640  |   0 |\n",
       "| AR57782359696605184  |   0 |\n",
       "| AR57885610710401024  |   0 |\n",
       "| AR58152929474904064  |   0 |\n",
       "| AR60293094498631680  |   0 |\n",
       "| AR61014855162789888  |   0 |\n",
       "| AR62741328936566784  |   0 |\n",
       "| AR64065312735100928  |   0 |\n",
       "| AR65485194563420160  | 100 |\n",
       "| AR66824949481865216  |   0 |\n",
       "| AR68326401329070080  |   0 |\n",
       "| AR72549694210834432  |   0 |\n",
       "| AR75246040319524864  |   0 |\n",
       "| AR82656095855706112  |   0 |\n",
       "| AR86794417104486400  |   0 |\n",
       "| AR88565111861542912  |   0 |\n",
       "| AR88954785654374400  |   0 |\n",
       "| AR90305570048835584  |   0 |\n",
       "| AR92302386244091904  |   0 |\n",
       "| AR92424844351635456  |   0 |\n",
       "| AR94037793549844480  |   0 |\n",
       "| AR94624314283786240  |   0 |\n",
       "\n"
      ],
      "text/plain": [
       "     Advertiser_ID        Spend_USD\n",
       "1    AR108481940364984320 83733500 \n",
       "2    AR105500339708362752 83483000 \n",
       "3    AR458000056721604608 62250100 \n",
       "4    AR488306308034854912 47351500 \n",
       "5    AR249615527784218624 16328300 \n",
       "6    AR128018337845215232 15857200 \n",
       "7    AR25310001757159424  15933100 \n",
       "8    AR194446432348930048 15443100 \n",
       "9    AR230475229367894016 14759900 \n",
       "10   AR276637125548441600 10746100 \n",
       "11   AR432709227698454528  8872700 \n",
       "12   AR383080296477622272  8785000 \n",
       "13   AR462410610177474560  8292400 \n",
       "14   AR568293442493349888  7852700 \n",
       "15   AR157291735423123456  8047900 \n",
       "16   AR101121809528651776  7214700 \n",
       "17   AR470291909525372928  7475700 \n",
       "18   AR505923507968802816  7179300 \n",
       "19   AR488740683847303168  7170400 \n",
       "20   AR534531769731383296  6942100 \n",
       "21   AR264932274514952192  6555200 \n",
       "22   AR437314669590347776  6032000 \n",
       "23   AR329053043867779072  5930700 \n",
       "24   AR312492199730216960  5772300 \n",
       "25   AR120847323008860160  5361800 \n",
       "26   AR227673879898750976  5578700 \n",
       "27   AR485896728302583808  4939900 \n",
       "28   AR424466463902924800  5015000 \n",
       "29   AR22316821868707840   5131900 \n",
       "30   AR463536510084317184  4939000 \n",
       "...  ...                  ...      \n",
       "6474 AR564175977605758976   0      \n",
       "6475 AR567549519797944320   0      \n",
       "6476 AR569117595177844736   0      \n",
       "6477 AR571716909385383936   0      \n",
       "6478 AR573375316517453824   0      \n",
       "6479 AR574311413229551616   0      \n",
       "6480 AR57449104594173952    0      \n",
       "6481 AR575254931645136896   0      \n",
       "6482 AR57534694702448640    0      \n",
       "6483 AR57782359696605184    0      \n",
       "6484 AR57885610710401024    0      \n",
       "6485 AR58152929474904064    0      \n",
       "6486 AR60293094498631680    0      \n",
       "6487 AR61014855162789888    0      \n",
       "6488 AR62741328936566784    0      \n",
       "6489 AR64065312735100928    0      \n",
       "6490 AR65485194563420160  100      \n",
       "6491 AR66824949481865216    0      \n",
       "6492 AR68326401329070080    0      \n",
       "6493 AR72549694210834432    0      \n",
       "6494 AR75246040319524864    0      \n",
       "6495 AR82656095855706112    0      \n",
       "6496 AR86794417104486400    0      \n",
       "6497 AR88565111861542912    0      \n",
       "6498 AR88954785654374400    0      \n",
       "6499 AR90305570048835584    0      \n",
       "6500 AR92302386244091904    0      \n",
       "6501 AR92424844351635456    0      \n",
       "6502 AR94037793549844480    0      \n",
       "6503 AR94624314283786240    0      "
      ]
     },
     "metadata": {},
     "output_type": "display_data"
    },
    {
     "data": {
      "text/html": [
       "<table class=\"dataframe\">\n",
       "<caption>A data.frame: 4 × 2</caption>\n",
       "<thead>\n",
       "\t<tr><th scope=col>Advertiser_ID</th><th scope=col>Spend_USD</th></tr>\n",
       "\t<tr><th scope=col>&lt;chr&gt;</th><th scope=col>&lt;int&gt;</th></tr>\n",
       "</thead>\n",
       "<tbody>\n",
       "\t<tr><td>AR108481940364984320</td><td>83733500</td></tr>\n",
       "\t<tr><td>AR105500339708362752</td><td>83483000</td></tr>\n",
       "\t<tr><td>AR458000056721604608</td><td>62250100</td></tr>\n",
       "\t<tr><td>AR488306308034854912</td><td>47351500</td></tr>\n",
       "</tbody>\n",
       "</table>\n"
      ],
      "text/latex": [
       "A data.frame: 4 × 2\n",
       "\\begin{tabular}{ll}\n",
       " Advertiser\\_ID & Spend\\_USD\\\\\n",
       " <chr> & <int>\\\\\n",
       "\\hline\n",
       "\t AR108481940364984320 & 83733500\\\\\n",
       "\t AR105500339708362752 & 83483000\\\\\n",
       "\t AR458000056721604608 & 62250100\\\\\n",
       "\t AR488306308034854912 & 47351500\\\\\n",
       "\\end{tabular}\n"
      ],
      "text/markdown": [
       "\n",
       "A data.frame: 4 × 2\n",
       "\n",
       "| Advertiser_ID &lt;chr&gt; | Spend_USD &lt;int&gt; |\n",
       "|---|---|\n",
       "| AR108481940364984320 | 83733500 |\n",
       "| AR105500339708362752 | 83483000 |\n",
       "| AR458000056721604608 | 62250100 |\n",
       "| AR488306308034854912 | 47351500 |\n",
       "\n"
      ],
      "text/plain": [
       "  Advertiser_ID        Spend_USD\n",
       "1 AR108481940364984320 83733500 \n",
       "2 AR105500339708362752 83483000 \n",
       "3 AR458000056721604608 62250100 \n",
       "4 AR488306308034854912 47351500 "
      ]
     },
     "metadata": {},
     "output_type": "display_data"
    }
   ],
   "source": [
    "# Read the table into an object\n",
    "GoogleAdsFilter <- dplyr::select(GoogleAds, Advertiser_ID, Spend_USD)\n",
    "View(GoogleAdsFilter)\n",
    "GoogleAdsFilter0 <- dplyr::filter(GoogleAdsFilter, Spend_USD > 30000000)\n",
    "View(GoogleAdsFilter0)"
   ]
  },
  {
   "cell_type": "code",
   "execution_count": 9,
   "id": "80f08180",
   "metadata": {},
   "outputs": [
    {
     "data": {
      "text/html": [
       "<style>\n",
       ".list-inline {list-style: none; margin:0; padding: 0}\n",
       ".list-inline>li {display: inline-block}\n",
       ".list-inline>li:not(:last-child)::after {content: \"\\00b7\"; padding: 0 .5ex}\n",
       "</style>\n",
       "<ol class=list-inline><li>0</li><li>0</li></ol>\n"
      ],
      "text/latex": [
       "\\begin{enumerate*}\n",
       "\\item 0\n",
       "\\item 0\n",
       "\\end{enumerate*}\n"
      ],
      "text/markdown": [
       "1. 0\n",
       "2. 0\n",
       "\n",
       "\n"
      ],
      "text/plain": [
       "[1] 0 0"
      ]
     },
     "metadata": {},
     "output_type": "display_data"
    },
    {
     "name": "stdout",
     "output_type": "stream",
     "text": [
      "[1] 83733500 83483000 62250100 47351500\n"
     ]
    }
   ],
   "source": [
    "# Create a vector\n",
    "numeric(2)\n",
    "numeric <- as.vector(GoogleAdsFilter0$Spend_USD)\n",
    "print(numeric)"
   ]
  },
  {
   "cell_type": "code",
   "execution_count": 10,
   "id": "1b4b7401",
   "metadata": {},
   "outputs": [
    {
     "data": {
      "text/html": [
       "'character'"
      ],
      "text/latex": [
       "'character'"
      ],
      "text/markdown": [
       "'character'"
      ],
      "text/plain": [
       "[1] \"character\""
      ]
     },
     "metadata": {},
     "output_type": "display_data"
    },
    {
     "data": {
      "text/html": [
       "'integer'"
      ],
      "text/latex": [
       "'integer'"
      ],
      "text/markdown": [
       "'integer'"
      ],
      "text/plain": [
       "[1] \"integer\""
      ]
     },
     "metadata": {},
     "output_type": "display_data"
    }
   ],
   "source": [
    "# Look at the 'class' of the data sets\n",
    "class(GoogleAdsFilter0$Advertiser_ID)\n",
    "class(GoogleAdsFilter0$Spend_USD)"
   ]
  },
  {
   "cell_type": "code",
   "execution_count": 11,
   "id": "431c416c",
   "metadata": {},
   "outputs": [],
   "source": [
    "# Create a dataframe\n",
    "data <- data.frame(\n",
    "  Advertiser_ID=c(GoogleAdsFilter0$Advertiser_ID) ,  \n",
    "  Spend_USD=c(numeric)\n",
    "  )"
   ]
  },
  {
   "cell_type": "code",
   "execution_count": 12,
   "id": "e24f826a",
   "metadata": {},
   "outputs": [
    {
     "data": {
      "image/png": "[encoded data removed]",
      "text/plain": [
       "plot without title"
      ]
     },
     "metadata": {
      "image/png": {
       "height": 420,
       "width": 420
      }
     },
     "output_type": "display_data"
    }
   ],
   "source": [
    "# Plot\n",
    "GoogleAdPlot <- ggplot2::ggplot(data, aes(x=Advertiser_ID, y=Spend_USD)) + \n",
    "            geom_bar(stat = \"identity\", color=\"blue\", fill=rgb(0.2,0.4,0.6,0.6))\n",
    "GoogleAdPlot\n"
   ]
  }
 ],
 "metadata": {
  "kernelspec": {
   "display_name": "R",
   "language": "R",
   "name": "ir"
  },
  "language_info": {
   "codemirror_mode": "r",
   "file_extension": ".r",
   "mimetype": "text/x-r-source",
   "name": "R",
   "pygments_lexer": "r",
   "version": "4.1.3"
  }
 },
 "nbformat": 4,
 "nbformat_minor": 5
}
